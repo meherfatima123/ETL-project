{
 "cells": [
  {
   "cell_type": "code",
   "execution_count": 4,
   "metadata": {
    "colab": {
     "base_uri": "https://localhost:8080/"
    },
    "id": "dgy34DRFAnxS",
    "outputId": "59f11ccf-dc7b-40e1-a05d-c1ebd1f2a4e1"
   },
   "outputs": [
    {
     "name": "stdout",
     "output_type": "stream",
     "text": [
      "Requirement already satisfied: requests in c:\\users\\meher\\anaconda3\\lib\\site-packages (2.31.0)\n",
      "Requirement already satisfied: charset-normalizer<4,>=2 in c:\\users\\meher\\anaconda3\\lib\\site-packages (from requests) (2.0.4)\n",
      "Requirement already satisfied: idna<4,>=2.5 in c:\\users\\meher\\anaconda3\\lib\\site-packages (from requests) (3.4)\n",
      "Requirement already satisfied: urllib3<3,>=1.21.1 in c:\\users\\meher\\anaconda3\\lib\\site-packages (from requests) (1.26.16)\n",
      "Requirement already satisfied: certifi>=2017.4.17 in c:\\users\\meher\\anaconda3\\lib\\site-packages (from requests) (2024.2.2)\n"
     ]
    }
   ],
   "source": [
    "!pip install requests"
   ]
  },
  {
   "cell_type": "markdown",
   "metadata": {},
   "source": [
    "# ETL project"
   ]
  },
  {
   "cell_type": "code",
   "execution_count": 5,
   "metadata": {
    "id": "6BSdT_phAnuK"
   },
   "outputs": [],
   "source": [
    "import requests"
   ]
  },
  {
   "cell_type": "code",
   "execution_count": 6,
   "metadata": {
    "id": "hxXY_-PjA7ZH"
   },
   "outputs": [],
   "source": [
    "pizza_api = \"https://pizza-api-x2f5.onrender.com/api/pizza\""
   ]
  },
  {
   "cell_type": "code",
   "execution_count": 11,
   "metadata": {},
   "outputs": [],
   "source": [
    "pizza_api1=\"http://127.0.0.1:5000/\""
   ]
  },
  {
   "cell_type": "code",
   "execution_count": 12,
   "metadata": {
    "id": "XNzCZ6IMYJej"
   },
   "outputs": [],
   "source": [
    "payload = {\n",
    "    \"user\":\"abc\",\n",
    "    \"password\":\"123456\"\n",
    "}"
   ]
  },
  {
   "cell_type": "code",
   "execution_count": null,
   "metadata": {
    "id": "PvJmUyJfYJhN"
   },
   "outputs": [],
   "source": []
  },
  {
   "cell_type": "code",
   "execution_count": 13,
   "metadata": {
    "colab": {
     "base_uri": "https://localhost:8080/"
    },
    "id": "sGlabQs8AnrT",
    "outputId": "401cdffe-8b8e-4fe9-e0e0-6c4c7cf7d415"
   },
   "outputs": [
    {
     "data": {
      "text/plain": [
       "<Response [200]>"
      ]
     },
     "execution_count": 13,
     "metadata": {},
     "output_type": "execute_result"
    }
   ],
   "source": [
    "requests.get(pizza_api, json=payload)"
   ]
  },
  {
   "cell_type": "code",
   "execution_count": 16,
   "metadata": {
    "colab": {
     "base_uri": "https://localhost:8080/"
    },
    "id": "phdCfZiOBDRs",
    "outputId": "c62516f2-2e60-456e-da02-49b065e716ff"
   },
   "outputs": [
    {
     "data": {
      "text/plain": [
       "{'name': 'Greek Pizza Pizza',\n",
       " 'price': 10.4,\n",
       " 'size': 'Large',\n",
       " 'toppings': ['Cucumber',\n",
       "  'Mozzarella',\n",
       "  'Feta Cheese',\n",
       "  'Red Onion',\n",
       "  'Tzatziki Sauce',\n",
       "  'Tomato']}"
      ]
     },
     "execution_count": 16,
     "metadata": {},
     "output_type": "execute_result"
    }
   ],
   "source": [
    "requests.get(pizza_api).json()[0]"
   ]
  },
  {
   "cell_type": "code",
   "execution_count": 17,
   "metadata": {
    "colab": {
     "base_uri": "https://localhost:8080/"
    },
    "id": "VIqisUKjBTZv",
    "outputId": "62d2c7e5-5bfd-4086-f9e8-2de993cbece2"
   },
   "outputs": [
    {
     "data": {
      "text/plain": [
       "[{'name': 'BBQ Ranch Chicken Pizza',\n",
       "  'price': 7.3,\n",
       "  'size': 'Medium',\n",
       "  'toppings': ['Red Onion', 'Mozzarella', 'Bacon']},\n",
       " {'name': 'BBQ Ranch Chicken Pizza',\n",
       "  'price': 14.49,\n",
       "  'size': 'Medium',\n",
       "  'toppings': ['Ranch Dressing', 'Bacon']},\n",
       " {'name': 'Hawaiian Pizza',\n",
       "  'price': 5.04,\n",
       "  'size': 'Small',\n",
       "  'toppings': ['Tomato Sauce', 'Ham']},\n",
       " {'name': 'Barbecue Bacon Pizza',\n",
       "  'price': 12.54,\n",
       "  'size': 'Small',\n",
       "  'toppings': ['Mozzarella']},\n",
       " {'name': 'Margherita Pizza',\n",
       "  'price': 12.36,\n",
       "  'size': 'Medium',\n",
       "  'toppings': ['Mozzarella', 'Tomato', 'Basil']},\n",
       " {'name': 'Mushroom Pizza',\n",
       "  'price': 14.16,\n",
       "  'size': 'Medium',\n",
       "  'toppings': ['Mozzarella']},\n",
       " {'name': 'Margherita Pizza',\n",
       "  'price': 5.79,\n",
       "  'size': 'Small',\n",
       "  'toppings': ['Basil']},\n",
       " {'name': 'White Pizza Pizza',\n",
       "  'price': 11.52,\n",
       "  'size': 'Small',\n",
       "  'toppings': ['Garlic', 'Mozzarella']},\n",
       " {'name': 'Seafood Pizza Pizza',\n",
       "  'price': 8.55,\n",
       "  'size': 'Medium',\n",
       "  'toppings': ['Clams',\n",
       "   'Calamari',\n",
       "   'Garlic',\n",
       "   'Mussels',\n",
       "   'Mozzarella',\n",
       "   'Tomato Sauce',\n",
       "   'Shrimp']},\n",
       " {'name': 'Pepperoni Pizza',\n",
       "  'price': 6.45,\n",
       "  'size': 'Medium',\n",
       "  'toppings': ['Pepperoni', 'Tomato Sauce']}]"
      ]
     },
     "execution_count": 17,
     "metadata": {},
     "output_type": "execute_result"
    }
   ],
   "source": [
    "requests.get(pizza_api).json()"
   ]
  },
  {
   "cell_type": "markdown",
   "metadata": {
    "id": "W1dWvPd7C7vD"
   },
   "source": [
    "## **Extract**"
   ]
  },
  {
   "cell_type": "code",
   "execution_count": 18,
   "metadata": {
    "id": "kGDvS8GvBpdb"
   },
   "outputs": [],
   "source": [
    "def extract():\n",
    "  try:\n",
    "    response = requests.get(pizza_api)\n",
    "    if response.status_code == 200:\n",
    "      pizza = response.json()\n",
    "      return pizza\n",
    "    else:\n",
    "      print(f\"Failed to fetch data the through api {response.status_code}\")\n",
    "  except:\n",
    "    pass"
   ]
  },
  {
   "cell_type": "code",
   "execution_count": 19,
   "metadata": {
    "colab": {
     "base_uri": "https://localhost:8080/"
    },
    "id": "QVj6SBxaCTOg",
    "outputId": "fd8d48b2-83cf-4566-e2a8-1d93a4397c04"
   },
   "outputs": [
    {
     "data": {
      "text/plain": [
       "[{'name': 'Margherita Pizza',\n",
       "  'price': 8.63,\n",
       "  'size': 'Large',\n",
       "  'toppings': ['Basil']},\n",
       " {'name': 'Artichoke and Spinach Pizza',\n",
       "  'price': 9.54,\n",
       "  'size': 'Medium',\n",
       "  'toppings': ['Garlic', 'Parmesan Cheese']},\n",
       " {'name': 'Buffalo Cauliflower Pizza',\n",
       "  'price': 11.04,\n",
       "  'size': 'Small',\n",
       "  'toppings': ['Mozzarella']},\n",
       " {'name': 'BBQ Ranch Chicken Pizza',\n",
       "  'price': 12.91,\n",
       "  'size': 'Medium',\n",
       "  'toppings': ['Ranch Dressing', 'Red Onion']},\n",
       " {'name': 'Veggie Delight Pizza',\n",
       "  'price': 12.0,\n",
       "  'size': 'Large',\n",
       "  'toppings': ['Onions']},\n",
       " {'name': 'Buffalo Cauliflower Pizza',\n",
       "  'price': 14.07,\n",
       "  'size': 'Small',\n",
       "  'toppings': ['Roasted Cauliflower', 'Blue Cheese', 'Mozzarella']},\n",
       " {'name': 'Pepperoni Pizza',\n",
       "  'price': 9.93,\n",
       "  'size': 'Large',\n",
       "  'toppings': ['Tomato Sauce', 'Pepperoni']},\n",
       " {'name': 'Greek Pizza Pizza',\n",
       "  'price': 7.99,\n",
       "  'size': 'Small',\n",
       "  'toppings': ['Feta Cheese', 'Kalamata Olives', 'Red Onion']},\n",
       " {'name': 'Barbecue Bacon Pizza',\n",
       "  'price': 7.88,\n",
       "  'size': 'Medium',\n",
       "  'toppings': ['Bacon', 'Barbecue Sauce']},\n",
       " {'name': 'Tandoori Chicken Pizza',\n",
       "  'price': 7.88,\n",
       "  'size': 'Medium',\n",
       "  'toppings': ['Tomatoes', 'Onions']}]"
      ]
     },
     "execution_count": 19,
     "metadata": {},
     "output_type": "execute_result"
    }
   ],
   "source": [
    "extract()"
   ]
  },
  {
   "cell_type": "code",
   "execution_count": 20,
   "metadata": {
    "colab": {
     "base_uri": "https://localhost:8080/"
    },
    "id": "_H2mS70FCTLn",
    "outputId": "e0f1c2b1-4c79-44ad-adb1-6f9c78bf2490"
   },
   "outputs": [
    {
     "data": {
      "text/plain": [
       "{'name': 'BBQ Bacon Cheeseburger Pizza',\n",
       " 'price': 10.59,\n",
       " 'size': 'Medium',\n",
       " 'toppings': ['Pickles',\n",
       "  'Onions',\n",
       "  'BBQ Sauce',\n",
       "  'Bacon',\n",
       "  'Cheddar Cheese',\n",
       "  'Mozzarella',\n",
       "  'Ground Beef']}"
      ]
     },
     "execution_count": 20,
     "metadata": {},
     "output_type": "execute_result"
    }
   ],
   "source": [
    "extract()[0]"
   ]
  },
  {
   "cell_type": "code",
   "execution_count": 22,
   "metadata": {},
   "outputs": [
    {
     "data": {
      "text/plain": [
       "dict"
      ]
     },
     "execution_count": 22,
     "metadata": {},
     "output_type": "execute_result"
    }
   ],
   "source": [
    "type(extract()[0])"
   ]
  },
  {
   "cell_type": "markdown",
   "metadata": {
    "id": "8YYhpt8PDKvH"
   },
   "source": [
    "- name : captalize to lowercase\n",
    "- price : float into integer"
   ]
  },
  {
   "cell_type": "code",
   "execution_count": 23,
   "metadata": {
    "id": "e_FT1HhyB5WU"
   },
   "outputs": [],
   "source": [
    "name = extract()[0]"
   ]
  },
  {
   "cell_type": "code",
   "execution_count": 24,
   "metadata": {
    "colab": {
     "base_uri": "https://localhost:8080/",
     "height": 36
    },
    "id": "llkXYV2ZDtzI",
    "outputId": "2ad3201b-dba3-42c8-e304-08bd87247db5"
   },
   "outputs": [
    {
     "data": {
      "text/plain": [
       "'Buffalo Cauliflower Pizza'"
      ]
     },
     "execution_count": 24,
     "metadata": {},
     "output_type": "execute_result"
    }
   ],
   "source": [
    "name['name']"
   ]
  },
  {
   "cell_type": "code",
   "execution_count": 25,
   "metadata": {
    "colab": {
     "base_uri": "https://localhost:8080/"
    },
    "id": "lpxSUYtoDvco",
    "outputId": "40e9a0a5-78bd-47b7-8512-d14122cd3c5c"
   },
   "outputs": [
    {
     "data": {
      "text/plain": [
       "12.36"
      ]
     },
     "execution_count": 25,
     "metadata": {},
     "output_type": "execute_result"
    }
   ],
   "source": [
    "name['price']"
   ]
  },
  {
   "cell_type": "code",
   "execution_count": 26,
   "metadata": {
    "colab": {
     "base_uri": "https://localhost:8080/",
     "height": 36
    },
    "id": "9iyAM66cD3e4",
    "outputId": "c73144b3-c5cb-45e2-8c2b-af4d8b735b13"
   },
   "outputs": [
    {
     "data": {
      "text/plain": [
       "'buffalo cauliflower pizza'"
      ]
     },
     "execution_count": 26,
     "metadata": {},
     "output_type": "execute_result"
    }
   ],
   "source": [
    "name['name'].lower()"
   ]
  },
  {
   "cell_type": "code",
   "execution_count": 27,
   "metadata": {
    "colab": {
     "base_uri": "https://localhost:8080/"
    },
    "id": "3EZ7_4KLEBki",
    "outputId": "710ac3ab-99fa-43fd-a33b-52a323bf80d4"
   },
   "outputs": [
    {
     "data": {
      "text/plain": [
       "12"
      ]
     },
     "execution_count": 27,
     "metadata": {},
     "output_type": "execute_result"
    }
   ],
   "source": [
    "round(name['price'])"
   ]
  },
  {
   "cell_type": "code",
   "execution_count": 28,
   "metadata": {
    "id": "BhlNdUdQEcUR"
   },
   "outputs": [],
   "source": [
    "def transformation(pizzas):\n",
    "  transformed_pizza_data = []\n",
    "\n",
    "  for pizza in pizzas:\n",
    "    transformed_pizza = {\n",
    "        \"name\":pizza['name'].lower(),\n",
    "        \"price\":round(pizza['price']),\n",
    "        \"size\":pizza['size'],\n",
    "        \"toppings\":pizza['toppings']\n",
    "    }\n",
    "    transformed_pizza_data.append(transformed_pizza)\n",
    "  return transformed_pizza_data"
   ]
  },
  {
   "cell_type": "code",
   "execution_count": 29,
   "metadata": {
    "id": "2ethApZMEcOq"
   },
   "outputs": [],
   "source": [
    "transformed_data = transformation(extract())"
   ]
  },
  {
   "cell_type": "code",
   "execution_count": 30,
   "metadata": {
    "colab": {
     "base_uri": "https://localhost:8080/"
    },
    "id": "3goRMExTHvwQ",
    "outputId": "40111965-7bc2-401f-dcd3-140e7b63bc7e"
   },
   "outputs": [
    {
     "data": {
      "text/plain": [
       "[{'name': 'bbq bacon cheeseburger pizza',\n",
       "  'price': 12,\n",
       "  'size': 'Large',\n",
       "  'toppings': ['Bacon', 'Ground Beef', 'Mozzarella']},\n",
       " {'name': 'tandoori chicken pizza',\n",
       "  'price': 13,\n",
       "  'size': 'Medium',\n",
       "  'toppings': ['Tandoori Chicken']},\n",
       " {'name': 'pepperoni pizza',\n",
       "  'price': 15,\n",
       "  'size': 'Large',\n",
       "  'toppings': ['Mozzarella', 'Pepperoni', 'Tomato Sauce']},\n",
       " {'name': 'artichoke and spinach pizza',\n",
       "  'price': 15,\n",
       "  'size': 'Large',\n",
       "  'toppings': ['Mozzarella']},\n",
       " {'name': 'veggie delight pizza',\n",
       "  'price': 14,\n",
       "  'size': 'Small',\n",
       "  'toppings': ['Mushrooms',\n",
       "   'Peppers',\n",
       "   'Spinach',\n",
       "   'Onions',\n",
       "   'Broccoli',\n",
       "   'Mozzarella',\n",
       "   'Tomato Sauce']},\n",
       " {'name': 'veggie delight pizza',\n",
       "  'price': 9,\n",
       "  'size': 'Medium',\n",
       "  'toppings': ['Peppers', 'Spinach', 'Mushrooms']},\n",
       " {'name': 'tandoori chicken pizza',\n",
       "  'price': 12,\n",
       "  'size': 'Medium',\n",
       "  'toppings': ['Tandoori Chicken', 'Tomatoes', 'Onions']},\n",
       " {'name': 'margherita pizza',\n",
       "  'price': 7,\n",
       "  'size': 'Large',\n",
       "  'toppings': ['Basil']},\n",
       " {'name': 'pesto chicken pizza',\n",
       "  'price': 12,\n",
       "  'size': 'Medium',\n",
       "  'toppings': ['Pesto Sauce', 'Mozzarella']},\n",
       " {'name': 'philly cheesesteak pizza',\n",
       "  'price': 7,\n",
       "  'size': 'Medium',\n",
       "  'toppings': ['Mozzarella', 'Shaved Steak', 'Cheese Sauce', 'Peppers']}]"
      ]
     },
     "execution_count": 30,
     "metadata": {},
     "output_type": "execute_result"
    }
   ],
   "source": [
    "transformed_data"
   ]
  },
  {
   "cell_type": "code",
   "execution_count": null,
   "metadata": {
    "colab": {
     "base_uri": "https://localhost:8080/"
    },
    "id": "FXMuYuyaJfHr",
    "outputId": "775c1602-e362-4c81-8091-46e070b86a17"
   },
   "outputs": [],
   "source": [
    "transformed_data"
   ]
  },
  {
   "cell_type": "markdown",
   "metadata": {
    "id": "ZATp6bAPGM8l"
   },
   "source": [
    "## **Load**"
   ]
  },
  {
   "cell_type": "code",
   "execution_count": 31,
   "metadata": {
    "colab": {
     "base_uri": "https://localhost:8080/"
    },
    "id": "jRE0HRW-GRzr",
    "outputId": "da6d28a6-20a3-422a-b489-45f1f0e4aad4"
   },
   "outputs": [
    {
     "name": "stdout",
     "output_type": "stream",
     "text": [
      "Requirement already satisfied: pymongo in c:\\users\\meher\\anaconda3\\lib\\site-packages (4.9.1)\n",
      "Requirement already satisfied: dnspython<3.0.0,>=1.16.0 in c:\\users\\meher\\anaconda3\\lib\\site-packages (from pymongo) (2.6.1)\n"
     ]
    }
   ],
   "source": [
    "!pip install pymongo"
   ]
  },
  {
   "cell_type": "code",
   "execution_count": 32,
   "metadata": {
    "id": "xFI_pe0sGSIN"
   },
   "outputs": [],
   "source": [
    "from pymongo import MongoClient"
   ]
  },
  {
   "cell_type": "code",
   "execution_count": 33,
   "metadata": {},
   "outputs": [],
   "source": [
    "import json \n",
    "from bson.objectid import ObjectId\n"
   ]
  },
  {
   "cell_type": "markdown",
   "metadata": {
    "id": "qlnPgddSG1D3"
   },
   "source": [
    "**4 parameters**\n",
    "- Mongodb credentials\n",
    "- Database Name\n",
    "- Collection Name\n",
    "- Data"
   ]
  },
  {
   "cell_type": "code",
   "execution_count": 34,
   "metadata": {
    "id": "9EiQWSefGSKl"
   },
   "outputs": [],
   "source": [
    "client = MongoClient(        host=\"localhost\",\n",
    "        port=27017,\n",
    "        serverSelectionTimeoutMS=1000)"
   ]
  },
  {
   "cell_type": "code",
   "execution_count": 56,
   "metadata": {
    "id": "HD5Rf4XAGSNZ"
   },
   "outputs": [],
   "source": [
    "db = client['ETL_PIZZA_DATABASE']"
   ]
  },
  {
   "cell_type": "code",
   "execution_count": 57,
   "metadata": {
    "id": "9_rQ2w9PGSPp"
   },
   "outputs": [],
   "source": [
    "collection = db['pizza_dc_1']"
   ]
  },
  {
   "cell_type": "code",
   "execution_count": 59,
   "metadata": {
    "colab": {
     "base_uri": "https://localhost:8080/"
    },
    "id": "e9_wVsmaGSSb",
    "outputId": "a7e46f9c-d075-479a-8da8-de80bba4b154"
   },
   "outputs": [],
   "source": [
    "#c=collection.insert_many(transformed_data)"
   ]
  },
  {
   "cell_type": "code",
   "execution_count": 44,
   "metadata": {},
   "outputs": [
    {
     "data": {
      "text/plain": [
       "InsertManyResult([ObjectId('67d82f928194bcc7908d393e'), ObjectId('67d82f928194bcc7908d393f'), ObjectId('67d82f928194bcc7908d3940'), ObjectId('67d82f928194bcc7908d3941'), ObjectId('67d82f928194bcc7908d3942'), ObjectId('67d82f928194bcc7908d3943'), ObjectId('67d82f928194bcc7908d3944'), ObjectId('67d82f928194bcc7908d3945'), ObjectId('67d82f928194bcc7908d3946'), ObjectId('67d82f928194bcc7908d3947')], acknowledged=True)"
      ]
     },
     "execution_count": 44,
     "metadata": {},
     "output_type": "execute_result"
    }
   ],
   "source": [
    "c"
   ]
  },
  {
   "cell_type": "code",
   "execution_count": 60,
   "metadata": {
    "id": "OY-pnlHYGSVL"
   },
   "outputs": [],
   "source": [
    "def load(tranformed_data):\n",
    "  try:\n",
    "    mongodburi=\"mongodb://localhost:27017/\"\n",
    "    client = MongoClient( mongodburi)\n",
    "    db = client['ETL1']\n",
    "    collection = db['pizza_data_collection']\n",
    "    collection.insert_many(transformed_data)\n",
    "  except:\n",
    "    print(\"code break\")"
   ]
  },
  {
   "cell_type": "code",
   "execution_count": 61,
   "metadata": {
    "colab": {
     "base_uri": "https://localhost:8080/"
    },
    "id": "caxiap6nGSYD",
    "outputId": "7dddf9c0-d260-4050-b807-489c75a586b6"
   },
   "outputs": [],
   "source": [
    "load(transformed_data)"
   ]
  },
  {
   "cell_type": "code",
   "execution_count": null,
   "metadata": {
    "id": "IpbKAkmmJUUL"
   },
   "outputs": [],
   "source": [
    "client = MongoClient(        host=\"localhost\",\n",
    "        port=27017,\n",
    "        serverSelectionTimeoutMS=1000)"
   ]
  },
  {
   "cell_type": "code",
   "execution_count": null,
   "metadata": {
    "id": "nUeCmbqIJJQO"
   },
   "outputs": [],
   "source": []
  },
  {
   "cell_type": "code",
   "execution_count": null,
   "metadata": {
    "id": "1ttagOfIJ74w"
   },
   "outputs": [],
   "source": []
  },
  {
   "cell_type": "code",
   "execution_count": null,
   "metadata": {
    "id": "X6armHxUJ71f"
   },
   "outputs": [],
   "source": []
  },
  {
   "cell_type": "code",
   "execution_count": null,
   "metadata": {
    "id": "YRYfGs5KJ7y_"
   },
   "outputs": [],
   "source": []
  },
  {
   "cell_type": "code",
   "execution_count": null,
   "metadata": {},
   "outputs": [],
   "source": []
  },
  {
   "cell_type": "code",
   "execution_count": null,
   "metadata": {},
   "outputs": [],
   "source": []
  },
  {
   "cell_type": "code",
   "execution_count": null,
   "metadata": {},
   "outputs": [],
   "source": []
  },
  {
   "cell_type": "code",
   "execution_count": 65,
   "metadata": {},
   "outputs": [],
   "source": [
    "def extract():\n",
    "  try:\n",
    "    response = requests.get(pizza_api)\n",
    "    if response.status_code == 200:\n",
    "      pizza = response.json()\n",
    "      print('success Extract')\n",
    "      return pizza\n",
    "    else:\n",
    "      print(f\"Failed to fetch data the through api {response.status_code}\")\n",
    "  except:\n",
    "    pass\n",
    "\n",
    "def transformation(pizzas):\n",
    "  transformed_pizza_data = []\n",
    "\n",
    "  for pizza in pizzas:\n",
    "    transformed_pizza = {\n",
    "        \"name\":pizza['name'].lower(),\n",
    "        \"price\":round(pizza['price']),\n",
    "        \"size\":pizza['size'],\n",
    "        \"toppings\":pizza['toppings']\n",
    "    }\n",
    "    transformed_pizza_data.append(transformed_pizza)\n",
    "    print('succes Transform')\n",
    "  return transformed_pizza_data\n",
    "def load(transformed_data):\n",
    "  try:\n",
    "    mongodburi=\"mongodb://localhost:27017/\"\n",
    "    client = MongoClient( mongodburi)\n",
    "    db = client['ET2']\n",
    "    collection = db['pizza_data_collection']\n",
    "    collection.insert_many(transformed_data)\n",
    "    print('success')\n",
    "  except:\n",
    "    print(\"code break\")"
   ]
  },
  {
   "cell_type": "code",
   "execution_count": 66,
   "metadata": {},
   "outputs": [
    {
     "name": "stdout",
     "output_type": "stream",
     "text": [
      "success Extract\n",
      "succes Transform\n",
      "succes Transform\n",
      "succes Transform\n",
      "succes Transform\n",
      "succes Transform\n",
      "succes Transform\n",
      "succes Transform\n",
      "succes Transform\n",
      "succes Transform\n",
      "succes Transform\n",
      "success\n"
     ]
    }
   ],
   "source": [
    "load(transformation(extract()))"
   ]
  },
  {
   "cell_type": "code",
   "execution_count": null,
   "metadata": {},
   "outputs": [],
   "source": []
  },
  {
   "cell_type": "code",
   "execution_count": null,
   "metadata": {},
   "outputs": [],
   "source": [
    "def load(tranformed_data):\n",
    "  try:\n",
    "    mongodburi=\"mongodb://localhost:27017/\"\n",
    "    client = MongoClient( mongodburi)\n",
    "    db = client['ETL1']\n",
    "    collection = db['pizza_data_collection']\n",
    "    collection.insert_many(transformed_data)\n",
    "  except:\n",
    "    print(\"code break\")"
   ]
  },
  {
   "cell_type": "code",
   "execution_count": null,
   "metadata": {},
   "outputs": [],
   "source": []
  }
 ],
 "metadata": {
  "colab": {
   "provenance": []
  },
  "kernelspec": {
   "display_name": "Python 3 (ipykernel)",
   "language": "python",
   "name": "python3"
  },
  "language_info": {
   "codemirror_mode": {
    "name": "ipython",
    "version": 3
   },
   "file_extension": ".py",
   "mimetype": "text/x-python",
   "name": "python",
   "nbconvert_exporter": "python",
   "pygments_lexer": "ipython3",
   "version": "3.11.5"
  }
 },
 "nbformat": 4,
 "nbformat_minor": 1
}
