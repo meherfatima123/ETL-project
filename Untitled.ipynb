{
 "cells": [
  {
   "cell_type": "code",
   "execution_count": 3,
   "id": "2244e68e",
   "metadata": {},
   "outputs": [],
   "source": [
    "from flask import Flask, jsonify\n",
    "from faker import Faker\n",
    "import random"
   ]
  },
  {
   "cell_type": "code",
   "execution_count": 2,
   "id": "44f0884f",
   "metadata": {},
   "outputs": [
    {
     "name": "stdout",
     "output_type": "stream",
     "text": [
      "Collecting faker\n",
      "  Downloading faker-37.0.0-py3-none-any.whl.metadata (15 kB)\n",
      "Requirement already satisfied: tzdata in c:\\users\\meher\\anaconda3\\lib\\site-packages (from faker) (2023.3)\n",
      "Downloading faker-37.0.0-py3-none-any.whl (1.9 MB)\n",
      "   ---------------------------------------- 0.0/1.9 MB ? eta -:--:--\n",
      "   -------------------------------- ------- 1.6/1.9 MB 8.4 MB/s eta 0:00:01\n",
      "   ---------------------------------------- 1.9/1.9 MB 8.2 MB/s eta 0:00:00\n",
      "Installing collected packages: faker\n",
      "Successfully installed faker-37.0.0\n"
     ]
    }
   ],
   "source": [
    "!pip install faker"
   ]
  },
  {
   "cell_type": "code",
   "execution_count": 4,
   "id": "ce747ecd",
   "metadata": {},
   "outputs": [],
   "source": [
    "'''Faker is a Python package that generates fake data for you. Whether \n",
    "you need to bootstrap your database, create good-looking XML documents,\n",
    " fill-in your persistence to stress test it,\n",
    " or anonymize data taken from a production service, Faker is for you.'''\n",
    "\n",
    "app = Flask(__name__)\n",
    "fake = Faker()\n",
    "\n",
    "pizza_data = {\n",
    "    \"Margherita\": [\"Tomato\", \"Mozzarella\", \"Basil\"],\n",
    "    \"Pepperoni\": [\"Pepperoni\", \"Mozzarella\", \"Tomato Sauce\"],\n",
    "    \"Hawaiian\": [\"Ham\", \"Pineapple\", \"Mozzarella\", \"Tomato Sauce\"],\n",
    "    \"Vegetarian\": [\"Mushrooms\", \"Bell Peppers\", \"Onions\", \"Olives\", \"Tomato Sauce\", \"Mozzarella\"],\n",
    "    \"BBQ Chicken\": [\"BBQ Chicken\", \"Red Onions\", \"Mozzarella\", \"BBQ Sauce\"],\n",
    "    \"Meat Lovers\": [\"Pepperoni\", \"Sausage\", \"Bacon\", \"Ham\", \"Ground Beef\", \"Mozzarella\", \"Tomato Sauce\"],\n",
    "    \"Supreme\": [\"Pepperoni\", \"Sausage\", \"Green Peppers\", \"Onions\", \"Black Olives\", \"Mushrooms\", \"Mozzarella\", \"Tomato Sauce\"],\n",
    "    \"Mushroom\": [\"Mushrooms\", \"Mozzarella\", \"Tomato Sauce\"],\n",
    "    \"Neapolitan\": [\"San Marzano Tomatoes\", \"Mozzarella\", \"Basil\", \"Extra Virgin Olive Oil\"],\n",
    "    \"Buffalo Chicken\": [\"Buffalo Chicken\", \"Blue Cheese\", \"Mozzarella\", \"Buffalo Sauce\"],\n",
    "    \"Pesto Chicken\": [\"Grilled Chicken\", \"Pesto Sauce\", \"Mozzarella\", \"Sun-Dried Tomatoes\"],\n",
    "    \"Spinach and Feta\": [\"Spinach\", \"Feta Cheese\", \"Mozzarella\", \"Tomato Sauce\"],\n",
    "    \"White Pizza\": [\"Ricotta Cheese\", \"Garlic\", \"Mozzarella\", \"Olive Oil\", \"Italian Herbs\"],\n",
    "    \"Barbecue Bacon\": [\"Bacon\", \"Red Onion\", \"Barbecue Sauce\", \"Mozzarella\"],\n",
    "    \"Artichoke and Spinach\": [\"Artichoke Hearts\", \"Spinach\", \"Mozzarella\", \"Garlic\", \"Parmesan Cheese\"],\n",
    "    \"Four Cheese\": [\"Mozzarella\", \"Ricotta\", \"Parmesan\", \"Gorgonzola\"],\n",
    "    \"Chicken Alfredo\": [\"Grilled Chicken\", \"Alfredo Sauce\", \"Mozzarella\", \"Garlic\"],\n",
    "    \"Taco Pizza\": [\"Seasoned Ground Beef\", \"Cheddar Cheese\", \"Lettuce\", \"Tomato\", \"Salsa\", \"Sour Cream\"],\n",
    "    \"Philly Cheesesteak\": [\"Shaved Steak\", \"Onions\", \"Peppers\", \"Mozzarella\", \"Cheese Sauce\"],\n",
    "    \"BBQ Bacon Cheeseburger\": [\"Ground Beef\", \"Bacon\", \"Cheddar Cheese\", \"Onions\", \"Pickles\", \"BBQ Sauce\", \"Mozzarella\"],\n",
    "    \"Greek Pizza\": [\"Feta Cheese\", \"Kalamata Olives\", \"Tomato\", \"Red Onion\", \"Cucumber\", \"Tzatziki Sauce\", \"Mozzarella\"],\n",
    "    \"Buffalo Cauliflower\": [\"Roasted Cauliflower\", \"Buffalo Sauce\", \"Blue Cheese\", \"Mozzarella\"],\n",
    "    \"Mac and Cheese Pizza\": [\"Macaroni\", \"Cheddar Cheese Sauce\", \"Bacon\", \"Mozzarella\"],\n",
    "    \"Capricciosa\": [\"Ham\", \"Mushrooms\", \"Artichokes\", \"Olives\", \"Tomato Sauce\", \"Mozzarella\"],\n",
    "    \"Seafood Pizza\": [\"Shrimp\", \"Calamari\", \"Mussels\", \"Clams\", \"Garlic\", \"Tomato Sauce\", \"Mozzarella\"],\n",
    "    \"Tandoori Chicken\": [\"Tandoori Chicken\", \"Onions\", \"Bell Peppers\", \"Tomatoes\", \"Mozzarella\"],\n",
    "    \"BBQ Ranch Chicken\": [\"Grilled Chicken\", \"Bacon\", \"Red Onion\", \"BBQ Sauce\", \"Ranch Dressing\", \"Mozzarella\"],\n",
    "    \"Margarita\": [\"Mozzarella\", \"Tomato\", \"Basil\", \"Olive Oil\"],\n",
    "    \"Sicilian\": [\"Tomato Sauce\", \"Mozzarella\", \"Olive Oil\", \"Oregano\"],\n",
    "    \"Calzone\": [\"Ricotta Cheese\", \"Mozzarella\", \"Pepperoni\", \"Tomato Sauce\"],\n",
    "    \"Meatball\": [\"Meatballs\", \"Mozzarella\", \"Parmesan\", \"Tomato Sauce\"],\n",
    "    \"Veggie Delight\": [\"Broccoli\", \"Spinach\", \"Mushrooms\", \"Onions\", \"Peppers\", \"Tomato Sauce\", \"Mozzarella\"]\n",
    "}\n",
    "\n",
    "pizza_sizes = [\"Small\", \"Medium\", \"Large\"]"
   ]
  },
  {
   "cell_type": "code",
   "execution_count": 13,
   "id": "ba35ee24",
   "metadata": {},
   "outputs": [
    {
     "data": {
      "text/plain": [
       "'Meat Lovers'"
      ]
     },
     "execution_count": 13,
     "metadata": {},
     "output_type": "execute_result"
    }
   ],
   "source": [
    "pizza_name = random.choice(list(pizza_data.keys()))\n",
    "pizza_name"
   ]
  },
  {
   "cell_type": "code",
   "execution_count": 14,
   "id": "25ca23dd",
   "metadata": {},
   "outputs": [],
   "source": [
    "toppings = random.sample(pizza_data[pizza_name], k=random.randint(1, len(pizza_data[pizza_name])))"
   ]
  },
  {
   "cell_type": "code",
   "execution_count": 15,
   "id": "2e84dcca",
   "metadata": {},
   "outputs": [
    {
     "data": {
      "text/plain": [
       "['Bacon', 'Ground Beef', 'Ham', 'Tomato Sauce', 'Sausage']"
      ]
     },
     "execution_count": 15,
     "metadata": {},
     "output_type": "execute_result"
    }
   ],
   "source": [
    "toppings"
   ]
  },
  {
   "cell_type": "code",
   "execution_count": 19,
   "id": "9155d55f",
   "metadata": {},
   "outputs": [
    {
     "data": {
      "text/plain": [
       "'Large'"
      ]
     },
     "execution_count": 19,
     "metadata": {},
     "output_type": "execute_result"
    }
   ],
   "source": [
    "random.choice(pizza_sizes)"
   ]
  },
  {
   "cell_type": "code",
   "execution_count": 21,
   "id": "e0d2f947",
   "metadata": {},
   "outputs": [
    {
     "data": {
      "text/plain": [
       "5.54"
      ]
     },
     "execution_count": 21,
     "metadata": {},
     "output_type": "execute_result"
    }
   ],
   "source": [
    "round(random.uniform(5, 15), 2)"
   ]
  },
  {
   "cell_type": "code",
   "execution_count": 5,
   "id": "8755c001",
   "metadata": {},
   "outputs": [],
   "source": [
    "def generate_fake_pizza():\n",
    "    pizza_name = random.choice(list(pizza_data.keys()))\n",
    "    toppings = random.sample(pizza_data[pizza_name], k=random.randint(1, len(pizza_data[pizza_name])))\n",
    "    return {\n",
    "        \"name\": pizza_name + \" Pizza\",\n",
    "        \"toppings\": toppings,\n",
    "        \"size\": random.choice(pizza_sizes),\n",
    "        \"price\": round(random.uniform(5, 15), 2)\n",
    "    }"
   ]
  },
  {
   "cell_type": "code",
   "execution_count": null,
   "id": "5996eb1d",
   "metadata": {},
   "outputs": [
    {
     "name": "stdout",
     "output_type": "stream",
     "text": [
      " * Serving Flask app '__main__'\n",
      " * Debug mode: off\n"
     ]
    },
    {
     "name": "stderr",
     "output_type": "stream",
     "text": [
      "WARNING: This is a development server. Do not use it in a production deployment. Use a production WSGI server instead.\n",
      " * Running on http://127.0.0.1:5000\n",
      "Press CTRL+C to quit\n",
      "127.0.0.1 - - [17/Mar/2025 19:31:21] \"GET / HTTP/1.1\" 200 -\n",
      "127.0.0.1 - - [17/Mar/2025 19:31:21] \"GET /favicon.ico HTTP/1.1\" 404 -\n",
      "127.0.0.1 - - [17/Mar/2025 19:32:04] \"GET / HTTP/1.1\" 200 -\n"
     ]
    }
   ],
   "source": [
    "@app.route('/', methods=['GET'])\n",
    "def get_fake_pizzas():\n",
    "    pizzas = [generate_fake_pizza() for _ in range(10)]\n",
    "    return jsonify(pizzas)\n",
    "\n",
    "if __name__ == '__main__':\n",
    "    app.run()"
   ]
  },
  {
   "cell_type": "code",
   "execution_count": null,
   "id": "13b04487",
   "metadata": {},
   "outputs": [],
   "source": []
  }
 ],
 "metadata": {
  "kernelspec": {
   "display_name": "Python 3 (ipykernel)",
   "language": "python",
   "name": "python3"
  },
  "language_info": {
   "codemirror_mode": {
    "name": "ipython",
    "version": 3
   },
   "file_extension": ".py",
   "mimetype": "text/x-python",
   "name": "python",
   "nbconvert_exporter": "python",
   "pygments_lexer": "ipython3",
   "version": "3.11.5"
  }
 },
 "nbformat": 4,
 "nbformat_minor": 5
}
